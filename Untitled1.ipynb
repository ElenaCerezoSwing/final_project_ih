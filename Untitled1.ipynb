{
 "cells": [
  {
   "cell_type": "code",
   "execution_count": null,
   "metadata": {},
   "outputs": [],
   "source": [
    "import numpy as np\n",
    "import os\n",
    "import re\n",
    "import matplotlib.pyplot as plt\n",
    "%matplotlib inline\n",
    "from sklearn.model_selection import train_test_split\n",
    "from sklearn.metrics import classification_report\n",
    "import keras\n",
    "from keras.utils import to_categorical\n",
    "from keras.models import Sequential,Input,Model\n",
    "from keras.layers import Dense, Dropout, Flatten\n",
    "from keras.layers import Conv2D, MaxPooling2D\n",
    "from keras.layers.normalization import BatchNormalization\n",
    "from keras.layers.advanced_activations import LeakyReLU\n",
    "import cv2"
   ]
  },
  {
   "cell_type": "code",
   "execution_count": null,
   "metadata": {},
   "outputs": [],
   "source": [
    "vid = cv2.VideoCapture(0)\n",
    "\n",
    "# Define the codec and create VideoWriter object\n",
    "fourcc = cv2.VideoWriter_fourcc(*'XVID')\n",
    "out = cv2.VideoWriter('output.avi',fourcc,10, (500,375))\n",
    "\n",
    "while(vid.isOpened()):\n",
    "    ret, frame = vid.read()\n",
    "    \n",
    "\n",
    "    rgb = cv2.cvtColor(frame, cv2.COLOR_BGR2RGB)\n",
    "    if ret==True:\n",
    "        print('hola')\n",
    "        #frame = cv2.flip(frame,1)\n",
    "        \n",
    "        # write the flipped frame\n",
    "        #out.write(frame)\n",
    "\n",
    "        cv2.imshow('frame', rgb)\n",
    "        if cv2.waitKey(1) & 0xFF == ord('q'):\n",
    "            cv2.imwrite('./images/batteries/battery%d.jpg' % count, image) \n",
    "            break\n",
    "    else:\n",
    "        break"
   ]
  },
  {
   "cell_type": "code",
   "execution_count": null,
   "metadata": {},
   "outputs": [],
   "source": [
    "print('todo male sal')\n",
    "vid.release()\n",
    "print('vid_release')\n",
    "out.release()\n",
    "print('out_release')\n",
    "cv2.destroyAllWindows()\n"
   ]
  },
  {
   "cell_type": "code",
   "execution_count": null,
   "metadata": {},
   "outputs": [],
   "source": [
    "# Una vez que se captura la imagen del vídeo, spliteamos\n",
    "\n",
    "vidcap = cv2.VideoCapture('prueba.avi')\n",
    "success, image = vid.read()\n",
    "print(success)"
   ]
  },
  {
   "cell_type": "code",
   "execution_count": null,
   "metadata": {},
   "outputs": [],
   "source": [
    "count = 1\n",
    "success = True\n",
    "while True:\n",
    "    cv2.imwrite('./images/batteries/battery%d.jpg' % count, image)          \n",
    "    #cv2.imwrite('/images/electronic_devices/e_d%d.jpg' % count, image)          \n",
    "    #cv2.imwrite('/images/fabrics/cloths%d.jpg' % count, image)          \n",
    "    #cv2.imwrite('/images/organic/org%d.jpg' % count, image)          \n",
    "    #cv2.imwrite('/images/paper/pap%d.jpg' % count, image)          \n",
    "    #cv2.imwrite('/images/plastic/plastic%d.jpg' % count, image)          \n",
    "    #cv2.imwrite('/images/sigre/med%d.jpg' % count, image)          \n",
    "    #cv2.imwrite('/images/trash/leftover%d.jpg' % count, image)          \n",
    "    # save frame as JPEG file      \n",
    "    success,image = vidcap.read()\n",
    "    success = True\n",
    "    print('Read a new frame: ', success)\n",
    "    count += 1"
   ]
  },
  {
   "cell_type": "code",
   "execution_count": null,
   "metadata": {
    "collapsed": true
   },
   "outputs": [],
   "source": []
  }
 ],
 "metadata": {
  "kernelspec": {
   "display_name": "Python 3",
   "language": "python",
   "name": "python3"
  },
  "language_info": {
   "codemirror_mode": {
    "name": "ipython",
    "version": 3
   },
   "file_extension": ".py",
   "mimetype": "text/x-python",
   "name": "python",
   "nbconvert_exporter": "python",
   "pygments_lexer": "ipython3",
   "version": "3.6.3"
  }
 },
 "nbformat": 4,
 "nbformat_minor": 2
}
