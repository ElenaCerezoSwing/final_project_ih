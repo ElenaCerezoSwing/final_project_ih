{
 "cells": [
  {
   "cell_type": "code",
   "execution_count": 1,
   "metadata": {
    "collapsed": true
   },
   "outputs": [],
   "source": [
    "import cv2\n",
    "import time\n",
    "import os"
   ]
  },
  {
   "cell_type": "code",
   "execution_count": null,
   "metadata": {},
   "outputs": [],
   "source": [
    "def video_to_frames(input_loc, output_loc):\n",
    "    try:\n",
    "        os.mkdir(output_loc)\n",
    "    except OSError:\n",
    "        pass\n",
    "    time_start = time.time()\n",
    "    vid = cv2.VideoCapture(0)\n",
    "    \n",
    "    cap = cv2.VideoCapture(input_loc)\n",
    "    video_length = int(cap.get(cv2.CAP_PROP_FRAME_COUNT)) -1\n",
    "    print('Number of frames: ', video_length)\n",
    "    print('Converting vide ...\\n')\n",
    "    while cap.isOpened():\n",
    "        ret, frame = cap.read()\n",
    "        count = 0\n",
    "        cv2.imwrite(output_loc + '/image%d.jpg' % (count + 1), frame )\n",
    "        count = count + 1\n",
    "        if (count > (video_length -1)):\n",
    "            time_end = time.time()\n",
    "            cap.release()\n",
    "            print('Done extracting frames.\\n%d frames extracted' % count)\n",
    "            print('It took %d seconds for conversion.' % (time_end - time_start))"
   ]
  },
  {
   "cell_type": "code",
   "execution_count": 4,
   "metadata": {},
   "outputs": [
    {
     "name": "stdout",
     "output_type": "stream",
     "text": [
      "Number of frames:  -1\n",
      "Converting vide ...\n",
      "\n"
     ]
    }
   ],
   "source": [
    "video_to_frames('.blister.mp4', './images')"
   ]
  },
  {
   "cell_type": "code",
   "execution_count": null,
   "metadata": {},
   "outputs": [],
   "source": [
    "video_to_frames('./outp.mp4', './images')"
   ]
  },
  {
   "cell_type": "code",
   "execution_count": null,
   "metadata": {
    "collapsed": true
   },
   "outputs": [],
   "source": []
  }
 ],
 "metadata": {
  "kernelspec": {
   "display_name": "Python 3",
   "language": "python",
   "name": "python3"
  },
  "language_info": {
   "codemirror_mode": {
    "name": "ipython",
    "version": 3
   },
   "file_extension": ".py",
   "mimetype": "text/x-python",
   "name": "python",
   "nbconvert_exporter": "python",
   "pygments_lexer": "ipython3",
   "version": "3.6.3"
  }
 },
 "nbformat": 4,
 "nbformat_minor": 2
}
